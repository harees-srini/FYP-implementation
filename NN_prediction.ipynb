{
 "cells": [
  {
   "cell_type": "code",
   "execution_count": 2,
   "metadata": {},
   "outputs": [
    {
     "name": "stdout",
     "output_type": "stream",
     "text": [
      "Requirement already satisfied: pandas in c:\\users\\msii\\appdata\\local\\packages\\pythonsoftwarefoundation.python.3.11_qbz5n2kfra8p0\\localcache\\local-packages\\python311\\site-packages (2.1.4)\n",
      "Requirement already satisfied: numpy<2,>=1.23.2 in c:\\users\\msii\\appdata\\local\\packages\\pythonsoftwarefoundation.python.3.11_qbz5n2kfra8p0\\localcache\\local-packages\\python311\\site-packages (from pandas) (1.26.2)\n",
      "Requirement already satisfied: python-dateutil>=2.8.2 in c:\\users\\msii\\appdata\\local\\packages\\pythonsoftwarefoundation.python.3.11_qbz5n2kfra8p0\\localcache\\local-packages\\python311\\site-packages (from pandas) (2.8.2)\n",
      "Requirement already satisfied: pytz>=2020.1 in c:\\users\\msii\\appdata\\local\\packages\\pythonsoftwarefoundation.python.3.11_qbz5n2kfra8p0\\localcache\\local-packages\\python311\\site-packages (from pandas) (2023.3.post1)\n",
      "Requirement already satisfied: tzdata>=2022.1 in c:\\users\\msii\\appdata\\local\\packages\\pythonsoftwarefoundation.python.3.11_qbz5n2kfra8p0\\localcache\\local-packages\\python311\\site-packages (from pandas) (2023.3)\n",
      "Requirement already satisfied: six>=1.5 in c:\\users\\msii\\appdata\\local\\packages\\pythonsoftwarefoundation.python.3.11_qbz5n2kfra8p0\\localcache\\local-packages\\python311\\site-packages (from python-dateutil>=2.8.2->pandas) (1.16.0)\n",
      "Note: you may need to restart the kernel to use updated packages.\n",
      "Requirement already satisfied: scikit-learn in c:\\users\\msii\\appdata\\local\\packages\\pythonsoftwarefoundation.python.3.11_qbz5n2kfra8p0\\localcache\\local-packages\\python311\\site-packages (1.3.2)\n",
      "Requirement already satisfied: numpy<2.0,>=1.17.3 in c:\\users\\msii\\appdata\\local\\packages\\pythonsoftwarefoundation.python.3.11_qbz5n2kfra8p0\\localcache\\local-packages\\python311\\site-packages (from scikit-learn) (1.26.2)\n",
      "Requirement already satisfied: scipy>=1.5.0 in c:\\users\\msii\\appdata\\local\\packages\\pythonsoftwarefoundation.python.3.11_qbz5n2kfra8p0\\localcache\\local-packages\\python311\\site-packages (from scikit-learn) (1.11.4)\n",
      "Requirement already satisfied: joblib>=1.1.1 in c:\\users\\msii\\appdata\\local\\packages\\pythonsoftwarefoundation.python.3.11_qbz5n2kfra8p0\\localcache\\local-packages\\python311\\site-packages (from scikit-learn) (1.3.2)\n",
      "Requirement already satisfied: threadpoolctl>=2.0.0 in c:\\users\\msii\\appdata\\local\\packages\\pythonsoftwarefoundation.python.3.11_qbz5n2kfra8p0\\localcache\\local-packages\\python311\\site-packages (from scikit-learn) (3.2.0)\n",
      "Note: you may need to restart the kernel to use updated packages.\n",
      "Requirement already satisfied: tensorflow in c:\\users\\msii\\appdata\\local\\packages\\pythonsoftwarefoundation.python.3.11_qbz5n2kfra8p0\\localcache\\local-packages\\python311\\site-packages (2.15.0)\n",
      "Requirement already satisfied: tensorflow-intel==2.15.0 in c:\\users\\msii\\appdata\\local\\packages\\pythonsoftwarefoundation.python.3.11_qbz5n2kfra8p0\\localcache\\local-packages\\python311\\site-packages (from tensorflow) (2.15.0)\n",
      "Requirement already satisfied: absl-py>=1.0.0 in c:\\users\\msii\\appdata\\local\\packages\\pythonsoftwarefoundation.python.3.11_qbz5n2kfra8p0\\localcache\\local-packages\\python311\\site-packages (from tensorflow-intel==2.15.0->tensorflow) (2.0.0)\n",
      "Requirement already satisfied: astunparse>=1.6.0 in c:\\users\\msii\\appdata\\local\\packages\\pythonsoftwarefoundation.python.3.11_qbz5n2kfra8p0\\localcache\\local-packages\\python311\\site-packages (from tensorflow-intel==2.15.0->tensorflow) (1.6.3)\n",
      "Requirement already satisfied: flatbuffers>=23.5.26 in c:\\users\\msii\\appdata\\local\\packages\\pythonsoftwarefoundation.python.3.11_qbz5n2kfra8p0\\localcache\\local-packages\\python311\\site-packages (from tensorflow-intel==2.15.0->tensorflow) (23.5.26)\n",
      "Requirement already satisfied: gast!=0.5.0,!=0.5.1,!=0.5.2,>=0.2.1 in c:\\users\\msii\\appdata\\local\\packages\\pythonsoftwarefoundation.python.3.11_qbz5n2kfra8p0\\localcache\\local-packages\\python311\\site-packages (from tensorflow-intel==2.15.0->tensorflow) (0.5.4)\n",
      "Requirement already satisfied: google-pasta>=0.1.1 in c:\\users\\msii\\appdata\\local\\packages\\pythonsoftwarefoundation.python.3.11_qbz5n2kfra8p0\\localcache\\local-packages\\python311\\site-packages (from tensorflow-intel==2.15.0->tensorflow) (0.2.0)\n",
      "Requirement already satisfied: h5py>=2.9.0 in c:\\users\\msii\\appdata\\local\\packages\\pythonsoftwarefoundation.python.3.11_qbz5n2kfra8p0\\localcache\\local-packages\\python311\\site-packages (from tensorflow-intel==2.15.0->tensorflow) (3.10.0)\n",
      "Requirement already satisfied: libclang>=13.0.0 in c:\\users\\msii\\appdata\\local\\packages\\pythonsoftwarefoundation.python.3.11_qbz5n2kfra8p0\\localcache\\local-packages\\python311\\site-packages (from tensorflow-intel==2.15.0->tensorflow) (16.0.6)\n",
      "Requirement already satisfied: ml-dtypes~=0.2.0 in c:\\users\\msii\\appdata\\local\\packages\\pythonsoftwarefoundation.python.3.11_qbz5n2kfra8p0\\localcache\\local-packages\\python311\\site-packages (from tensorflow-intel==2.15.0->tensorflow) (0.2.0)\n",
      "Requirement already satisfied: numpy<2.0.0,>=1.23.5 in c:\\users\\msii\\appdata\\local\\packages\\pythonsoftwarefoundation.python.3.11_qbz5n2kfra8p0\\localcache\\local-packages\\python311\\site-packages (from tensorflow-intel==2.15.0->tensorflow) (1.26.2)\n",
      "Requirement already satisfied: opt-einsum>=2.3.2 in c:\\users\\msii\\appdata\\local\\packages\\pythonsoftwarefoundation.python.3.11_qbz5n2kfra8p0\\localcache\\local-packages\\python311\\site-packages (from tensorflow-intel==2.15.0->tensorflow) (3.3.0)\n",
      "Requirement already satisfied: packaging in c:\\users\\msii\\appdata\\local\\packages\\pythonsoftwarefoundation.python.3.11_qbz5n2kfra8p0\\localcache\\local-packages\\python311\\site-packages (from tensorflow-intel==2.15.0->tensorflow) (23.2)\n",
      "Requirement already satisfied: protobuf!=4.21.0,!=4.21.1,!=4.21.2,!=4.21.3,!=4.21.4,!=4.21.5,<5.0.0dev,>=3.20.3 in c:\\users\\msii\\appdata\\local\\packages\\pythonsoftwarefoundation.python.3.11_qbz5n2kfra8p0\\localcache\\local-packages\\python311\\site-packages (from tensorflow-intel==2.15.0->tensorflow) (4.23.4)\n",
      "Requirement already satisfied: setuptools in c:\\program files\\windowsapps\\pythonsoftwarefoundation.python.3.11_3.11.2032.0_x64__qbz5n2kfra8p0\\lib\\site-packages (from tensorflow-intel==2.15.0->tensorflow) (65.5.0)\n",
      "Requirement already satisfied: six>=1.12.0 in c:\\users\\msii\\appdata\\local\\packages\\pythonsoftwarefoundation.python.3.11_qbz5n2kfra8p0\\localcache\\local-packages\\python311\\site-packages (from tensorflow-intel==2.15.0->tensorflow) (1.16.0)\n",
      "Requirement already satisfied: termcolor>=1.1.0 in c:\\users\\msii\\appdata\\local\\packages\\pythonsoftwarefoundation.python.3.11_qbz5n2kfra8p0\\localcache\\local-packages\\python311\\site-packages (from tensorflow-intel==2.15.0->tensorflow) (2.4.0)\n",
      "Requirement already satisfied: typing-extensions>=3.6.6 in c:\\users\\msii\\appdata\\local\\packages\\pythonsoftwarefoundation.python.3.11_qbz5n2kfra8p0\\localcache\\local-packages\\python311\\site-packages (from tensorflow-intel==2.15.0->tensorflow) (4.9.0)\n",
      "Requirement already satisfied: wrapt<1.15,>=1.11.0 in c:\\users\\msii\\appdata\\local\\packages\\pythonsoftwarefoundation.python.3.11_qbz5n2kfra8p0\\localcache\\local-packages\\python311\\site-packages (from tensorflow-intel==2.15.0->tensorflow) (1.14.1)\n",
      "Requirement already satisfied: tensorflow-io-gcs-filesystem>=0.23.1 in c:\\users\\msii\\appdata\\local\\packages\\pythonsoftwarefoundation.python.3.11_qbz5n2kfra8p0\\localcache\\local-packages\\python311\\site-packages (from tensorflow-intel==2.15.0->tensorflow) (0.31.0)\n",
      "Requirement already satisfied: grpcio<2.0,>=1.24.3 in c:\\users\\msii\\appdata\\local\\packages\\pythonsoftwarefoundation.python.3.11_qbz5n2kfra8p0\\localcache\\local-packages\\python311\\site-packages (from tensorflow-intel==2.15.0->tensorflow) (1.60.0)\n",
      "Requirement already satisfied: tensorboard<2.16,>=2.15 in c:\\users\\msii\\appdata\\local\\packages\\pythonsoftwarefoundation.python.3.11_qbz5n2kfra8p0\\localcache\\local-packages\\python311\\site-packages (from tensorflow-intel==2.15.0->tensorflow) (2.15.1)\n",
      "Requirement already satisfied: tensorflow-estimator<2.16,>=2.15.0 in c:\\users\\msii\\appdata\\local\\packages\\pythonsoftwarefoundation.python.3.11_qbz5n2kfra8p0\\localcache\\local-packages\\python311\\site-packages (from tensorflow-intel==2.15.0->tensorflow) (2.15.0)\n",
      "Requirement already satisfied: keras<2.16,>=2.15.0 in c:\\users\\msii\\appdata\\local\\packages\\pythonsoftwarefoundation.python.3.11_qbz5n2kfra8p0\\localcache\\local-packages\\python311\\site-packages (from tensorflow-intel==2.15.0->tensorflow) (2.15.0)\n",
      "Requirement already satisfied: wheel<1.0,>=0.23.0 in c:\\users\\msii\\appdata\\local\\packages\\pythonsoftwarefoundation.python.3.11_qbz5n2kfra8p0\\localcache\\local-packages\\python311\\site-packages (from astunparse>=1.6.0->tensorflow-intel==2.15.0->tensorflow) (0.42.0)\n",
      "Requirement already satisfied: google-auth<3,>=1.6.3 in c:\\users\\msii\\appdata\\local\\packages\\pythonsoftwarefoundation.python.3.11_qbz5n2kfra8p0\\localcache\\local-packages\\python311\\site-packages (from tensorboard<2.16,>=2.15->tensorflow-intel==2.15.0->tensorflow) (2.25.2)\n",
      "Requirement already satisfied: google-auth-oauthlib<2,>=0.5 in c:\\users\\msii\\appdata\\local\\packages\\pythonsoftwarefoundation.python.3.11_qbz5n2kfra8p0\\localcache\\local-packages\\python311\\site-packages (from tensorboard<2.16,>=2.15->tensorflow-intel==2.15.0->tensorflow) (1.1.0)\n",
      "Requirement already satisfied: markdown>=2.6.8 in c:\\users\\msii\\appdata\\local\\packages\\pythonsoftwarefoundation.python.3.11_qbz5n2kfra8p0\\localcache\\local-packages\\python311\\site-packages (from tensorboard<2.16,>=2.15->tensorflow-intel==2.15.0->tensorflow) (3.5.1)\n",
      "Requirement already satisfied: requests<3,>=2.21.0 in c:\\users\\msii\\appdata\\local\\packages\\pythonsoftwarefoundation.python.3.11_qbz5n2kfra8p0\\localcache\\local-packages\\python311\\site-packages (from tensorboard<2.16,>=2.15->tensorflow-intel==2.15.0->tensorflow) (2.31.0)\n",
      "Requirement already satisfied: tensorboard-data-server<0.8.0,>=0.7.0 in c:\\users\\msii\\appdata\\local\\packages\\pythonsoftwarefoundation.python.3.11_qbz5n2kfra8p0\\localcache\\local-packages\\python311\\site-packages (from tensorboard<2.16,>=2.15->tensorflow-intel==2.15.0->tensorflow) (0.7.2)\n",
      "Requirement already satisfied: werkzeug>=1.0.1 in c:\\users\\msii\\appdata\\local\\packages\\pythonsoftwarefoundation.python.3.11_qbz5n2kfra8p0\\localcache\\local-packages\\python311\\site-packages (from tensorboard<2.16,>=2.15->tensorflow-intel==2.15.0->tensorflow) (3.0.1)\n",
      "Requirement already satisfied: cachetools<6.0,>=2.0.0 in c:\\users\\msii\\appdata\\local\\packages\\pythonsoftwarefoundation.python.3.11_qbz5n2kfra8p0\\localcache\\local-packages\\python311\\site-packages (from google-auth<3,>=1.6.3->tensorboard<2.16,>=2.15->tensorflow-intel==2.15.0->tensorflow) (5.3.2)\n",
      "Requirement already satisfied: pyasn1-modules>=0.2.1 in c:\\users\\msii\\appdata\\local\\packages\\pythonsoftwarefoundation.python.3.11_qbz5n2kfra8p0\\localcache\\local-packages\\python311\\site-packages (from google-auth<3,>=1.6.3->tensorboard<2.16,>=2.15->tensorflow-intel==2.15.0->tensorflow) (0.3.0)\n",
      "Requirement already satisfied: rsa<5,>=3.1.4 in c:\\users\\msii\\appdata\\local\\packages\\pythonsoftwarefoundation.python.3.11_qbz5n2kfra8p0\\localcache\\local-packages\\python311\\site-packages (from google-auth<3,>=1.6.3->tensorboard<2.16,>=2.15->tensorflow-intel==2.15.0->tensorflow) (4.9)\n",
      "Requirement already satisfied: requests-oauthlib>=0.7.0 in c:\\users\\msii\\appdata\\local\\packages\\pythonsoftwarefoundation.python.3.11_qbz5n2kfra8p0\\localcache\\local-packages\\python311\\site-packages (from google-auth-oauthlib<2,>=0.5->tensorboard<2.16,>=2.15->tensorflow-intel==2.15.0->tensorflow) (1.3.1)\n",
      "Requirement already satisfied: charset-normalizer<4,>=2 in c:\\users\\msii\\appdata\\local\\packages\\pythonsoftwarefoundation.python.3.11_qbz5n2kfra8p0\\localcache\\local-packages\\python311\\site-packages (from requests<3,>=2.21.0->tensorboard<2.16,>=2.15->tensorflow-intel==2.15.0->tensorflow) (3.3.2)\n",
      "Requirement already satisfied: idna<4,>=2.5 in c:\\users\\msii\\appdata\\local\\packages\\pythonsoftwarefoundation.python.3.11_qbz5n2kfra8p0\\localcache\\local-packages\\python311\\site-packages (from requests<3,>=2.21.0->tensorboard<2.16,>=2.15->tensorflow-intel==2.15.0->tensorflow) (3.6)\n",
      "Requirement already satisfied: urllib3<3,>=1.21.1 in c:\\users\\msii\\appdata\\local\\packages\\pythonsoftwarefoundation.python.3.11_qbz5n2kfra8p0\\localcache\\local-packages\\python311\\site-packages (from requests<3,>=2.21.0->tensorboard<2.16,>=2.15->tensorflow-intel==2.15.0->tensorflow) (2.1.0)\n",
      "Requirement already satisfied: certifi>=2017.4.17 in c:\\users\\msii\\appdata\\local\\packages\\pythonsoftwarefoundation.python.3.11_qbz5n2kfra8p0\\localcache\\local-packages\\python311\\site-packages (from requests<3,>=2.21.0->tensorboard<2.16,>=2.15->tensorflow-intel==2.15.0->tensorflow) (2023.11.17)\n",
      "Requirement already satisfied: MarkupSafe>=2.1.1 in c:\\users\\msii\\appdata\\local\\packages\\pythonsoftwarefoundation.python.3.11_qbz5n2kfra8p0\\localcache\\local-packages\\python311\\site-packages (from werkzeug>=1.0.1->tensorboard<2.16,>=2.15->tensorflow-intel==2.15.0->tensorflow) (2.1.3)\n",
      "Requirement already satisfied: pyasn1<0.6.0,>=0.4.6 in c:\\users\\msii\\appdata\\local\\packages\\pythonsoftwarefoundation.python.3.11_qbz5n2kfra8p0\\localcache\\local-packages\\python311\\site-packages (from pyasn1-modules>=0.2.1->google-auth<3,>=1.6.3->tensorboard<2.16,>=2.15->tensorflow-intel==2.15.0->tensorflow) (0.5.1)\n",
      "Requirement already satisfied: oauthlib>=3.0.0 in c:\\users\\msii\\appdata\\local\\packages\\pythonsoftwarefoundation.python.3.11_qbz5n2kfra8p0\\localcache\\local-packages\\python311\\site-packages (from requests-oauthlib>=0.7.0->google-auth-oauthlib<2,>=0.5->tensorboard<2.16,>=2.15->tensorflow-intel==2.15.0->tensorflow) (3.2.2)\n",
      "Note: you may need to restart the kernel to use updated packages.\n",
      "Requirement already satisfied: keras in c:\\users\\msii\\appdata\\local\\packages\\pythonsoftwarefoundation.python.3.11_qbz5n2kfra8p0\\localcache\\local-packages\\python311\\site-packages (2.15.0)\n",
      "Note: you may need to restart the kernel to use updated packages.\n"
     ]
    }
   ],
   "source": [
    "%pip install pandas\n",
    "%pip install scikit-learn\n",
    "%pip install tensorflow\n",
    "%pip install keras"
   ]
  },
  {
   "cell_type": "code",
   "execution_count": 6,
   "metadata": {},
   "outputs": [
    {
     "name": "stdout",
     "output_type": "stream",
     "text": [
      "Epoch 1/50\n",
      "44/44 [==============================] - 1s 5ms/step - loss: 0.1479 - accuracy: 0.6664 - val_loss: 0.1190 - val_accuracy: 0.6965\n",
      "Epoch 2/50\n",
      "44/44 [==============================] - 0s 2ms/step - loss: 0.1157 - accuracy: 0.7077 - val_loss: 0.1164 - val_accuracy: 0.6965\n",
      "Epoch 3/50\n",
      "44/44 [==============================] - 0s 2ms/step - loss: 0.1124 - accuracy: 0.7084 - val_loss: 0.1179 - val_accuracy: 0.6965\n",
      "Epoch 4/50\n",
      "44/44 [==============================] - 0s 2ms/step - loss: 0.1113 - accuracy: 0.7062 - val_loss: 0.1158 - val_accuracy: 0.6965\n",
      "Epoch 5/50\n",
      "44/44 [==============================] - 0s 2ms/step - loss: 0.1112 - accuracy: 0.7048 - val_loss: 0.1163 - val_accuracy: 0.6965\n",
      "Epoch 6/50\n",
      "44/44 [==============================] - 0s 2ms/step - loss: 0.1107 - accuracy: 0.7084 - val_loss: 0.1171 - val_accuracy: 0.6965\n",
      "Epoch 7/50\n",
      "44/44 [==============================] - 0s 2ms/step - loss: 0.1103 - accuracy: 0.7084 - val_loss: 0.1162 - val_accuracy: 0.6965\n",
      "Epoch 8/50\n",
      "44/44 [==============================] - 0s 2ms/step - loss: 0.1107 - accuracy: 0.7062 - val_loss: 0.1166 - val_accuracy: 0.6965\n",
      "Epoch 9/50\n",
      "44/44 [==============================] - 0s 2ms/step - loss: 0.1110 - accuracy: 0.7062 - val_loss: 0.1169 - val_accuracy: 0.6965\n",
      "Epoch 10/50\n",
      "44/44 [==============================] - 0s 2ms/step - loss: 0.1102 - accuracy: 0.7091 - val_loss: 0.1175 - val_accuracy: 0.6763\n",
      "Epoch 11/50\n",
      "44/44 [==============================] - 0s 2ms/step - loss: 0.1098 - accuracy: 0.7055 - val_loss: 0.1163 - val_accuracy: 0.6965\n",
      "Epoch 12/50\n",
      "44/44 [==============================] - 0s 2ms/step - loss: 0.1106 - accuracy: 0.7069 - val_loss: 0.1167 - val_accuracy: 0.6850\n",
      "Epoch 13/50\n",
      "44/44 [==============================] - 0s 2ms/step - loss: 0.1101 - accuracy: 0.7069 - val_loss: 0.1177 - val_accuracy: 0.6965\n",
      "Epoch 14/50\n",
      "44/44 [==============================] - 0s 2ms/step - loss: 0.1108 - accuracy: 0.7062 - val_loss: 0.1164 - val_accuracy: 0.6965\n",
      "Epoch 15/50\n",
      "44/44 [==============================] - 0s 2ms/step - loss: 0.1103 - accuracy: 0.7048 - val_loss: 0.1175 - val_accuracy: 0.6965\n",
      "Epoch 16/50\n",
      "44/44 [==============================] - 0s 2ms/step - loss: 0.1101 - accuracy: 0.7077 - val_loss: 0.1177 - val_accuracy: 0.6965\n",
      "Epoch 17/50\n",
      "44/44 [==============================] - 0s 2ms/step - loss: 0.1099 - accuracy: 0.7055 - val_loss: 0.1176 - val_accuracy: 0.6879\n",
      "Epoch 18/50\n",
      "44/44 [==============================] - 0s 2ms/step - loss: 0.1094 - accuracy: 0.7048 - val_loss: 0.1173 - val_accuracy: 0.6965\n",
      "Epoch 19/50\n",
      "44/44 [==============================] - 0s 2ms/step - loss: 0.1106 - accuracy: 0.7026 - val_loss: 0.1183 - val_accuracy: 0.6965\n",
      "Epoch 20/50\n",
      "44/44 [==============================] - 0s 2ms/step - loss: 0.1099 - accuracy: 0.7048 - val_loss: 0.1173 - val_accuracy: 0.6965\n",
      "Epoch 21/50\n",
      "44/44 [==============================] - 0s 2ms/step - loss: 0.1095 - accuracy: 0.7084 - val_loss: 0.1164 - val_accuracy: 0.6965\n",
      "Epoch 22/50\n",
      "44/44 [==============================] - 0s 2ms/step - loss: 0.1094 - accuracy: 0.7069 - val_loss: 0.1177 - val_accuracy: 0.6965\n",
      "Epoch 23/50\n",
      "44/44 [==============================] - 0s 2ms/step - loss: 0.1099 - accuracy: 0.7084 - val_loss: 0.1167 - val_accuracy: 0.6965\n",
      "Epoch 24/50\n",
      "44/44 [==============================] - 0s 2ms/step - loss: 0.1098 - accuracy: 0.7033 - val_loss: 0.1174 - val_accuracy: 0.6965\n",
      "Epoch 25/50\n",
      "44/44 [==============================] - 0s 2ms/step - loss: 0.1101 - accuracy: 0.7041 - val_loss: 0.1186 - val_accuracy: 0.6965\n",
      "Epoch 26/50\n",
      "44/44 [==============================] - 0s 2ms/step - loss: 0.1103 - accuracy: 0.7069 - val_loss: 0.1187 - val_accuracy: 0.6965\n",
      "Epoch 27/50\n",
      "44/44 [==============================] - 0s 2ms/step - loss: 0.1096 - accuracy: 0.7084 - val_loss: 0.1164 - val_accuracy: 0.6965\n",
      "Epoch 28/50\n",
      "44/44 [==============================] - 0s 2ms/step - loss: 0.1099 - accuracy: 0.7069 - val_loss: 0.1174 - val_accuracy: 0.6965\n",
      "Epoch 29/50\n",
      "44/44 [==============================] - 0s 2ms/step - loss: 0.1099 - accuracy: 0.7055 - val_loss: 0.1173 - val_accuracy: 0.6850\n",
      "Epoch 30/50\n",
      "44/44 [==============================] - 0s 2ms/step - loss: 0.1102 - accuracy: 0.7069 - val_loss: 0.1179 - val_accuracy: 0.6879\n",
      "Epoch 31/50\n",
      "44/44 [==============================] - 0s 2ms/step - loss: 0.1105 - accuracy: 0.7055 - val_loss: 0.1181 - val_accuracy: 0.6965\n",
      "Epoch 32/50\n",
      "44/44 [==============================] - 0s 2ms/step - loss: 0.1092 - accuracy: 0.7084 - val_loss: 0.1176 - val_accuracy: 0.6965\n",
      "Epoch 33/50\n",
      "44/44 [==============================] - 0s 2ms/step - loss: 0.1092 - accuracy: 0.7077 - val_loss: 0.1169 - val_accuracy: 0.6965\n",
      "Epoch 34/50\n",
      "44/44 [==============================] - 0s 2ms/step - loss: 0.1094 - accuracy: 0.7055 - val_loss: 0.1185 - val_accuracy: 0.6965\n",
      "Epoch 35/50\n",
      "44/44 [==============================] - 0s 2ms/step - loss: 0.1096 - accuracy: 0.7091 - val_loss: 0.1189 - val_accuracy: 0.6965\n",
      "Epoch 36/50\n",
      "44/44 [==============================] - 0s 2ms/step - loss: 0.1096 - accuracy: 0.7084 - val_loss: 0.1174 - val_accuracy: 0.6965\n",
      "Epoch 37/50\n",
      "44/44 [==============================] - 0s 2ms/step - loss: 0.1097 - accuracy: 0.7084 - val_loss: 0.1171 - val_accuracy: 0.6965\n",
      "Epoch 38/50\n",
      "44/44 [==============================] - 0s 2ms/step - loss: 0.1090 - accuracy: 0.7084 - val_loss: 0.1178 - val_accuracy: 0.6965\n",
      "Epoch 39/50\n",
      "44/44 [==============================] - 0s 2ms/step - loss: 0.1093 - accuracy: 0.7069 - val_loss: 0.1176 - val_accuracy: 0.6965\n",
      "Epoch 40/50\n",
      "44/44 [==============================] - 0s 2ms/step - loss: 0.1094 - accuracy: 0.7069 - val_loss: 0.1178 - val_accuracy: 0.6850\n",
      "Epoch 41/50\n",
      "44/44 [==============================] - 0s 2ms/step - loss: 0.1091 - accuracy: 0.7055 - val_loss: 0.1171 - val_accuracy: 0.6879\n",
      "Epoch 42/50\n",
      "44/44 [==============================] - 0s 2ms/step - loss: 0.1096 - accuracy: 0.7084 - val_loss: 0.1187 - val_accuracy: 0.6965\n",
      "Epoch 43/50\n",
      "44/44 [==============================] - 0s 2ms/step - loss: 0.1092 - accuracy: 0.7055 - val_loss: 0.1170 - val_accuracy: 0.6965\n",
      "Epoch 44/50\n",
      "44/44 [==============================] - 0s 2ms/step - loss: 0.1091 - accuracy: 0.7055 - val_loss: 0.1177 - val_accuracy: 0.6965\n",
      "Epoch 45/50\n",
      "44/44 [==============================] - 0s 2ms/step - loss: 0.1101 - accuracy: 0.7055 - val_loss: 0.1179 - val_accuracy: 0.6965\n",
      "Epoch 46/50\n",
      "44/44 [==============================] - 0s 2ms/step - loss: 0.1090 - accuracy: 0.7084 - val_loss: 0.1172 - val_accuracy: 0.6965\n",
      "Epoch 47/50\n",
      "44/44 [==============================] - 0s 2ms/step - loss: 0.1092 - accuracy: 0.7084 - val_loss: 0.1196 - val_accuracy: 0.6965\n",
      "Epoch 48/50\n",
      "44/44 [==============================] - 0s 2ms/step - loss: 0.1092 - accuracy: 0.7062 - val_loss: 0.1173 - val_accuracy: 0.6879\n",
      "Epoch 49/50\n",
      "44/44 [==============================] - 0s 2ms/step - loss: 0.1090 - accuracy: 0.7069 - val_loss: 0.1176 - val_accuracy: 0.6965\n",
      "Epoch 50/50\n",
      "44/44 [==============================] - 0s 2ms/step - loss: 0.1093 - accuracy: 0.7084 - val_loss: 0.1183 - val_accuracy: 0.6965\n"
     ]
    },
    {
     "data": {
      "text/plain": [
       "<keras.src.callbacks.History at 0x21b25ab6050>"
      ]
     },
     "execution_count": 6,
     "metadata": {},
     "output_type": "execute_result"
    }
   ],
   "source": [
    "import pandas as pd\n",
    "from sklearn.model_selection import train_test_split\n",
    "from sklearn.preprocessing import StandardScaler\n",
    "from sklearn.metrics import mean_squared_error\n",
    "from tensorflow.keras.models import Sequential\n",
    "from tensorflow.keras.layers import Dense\n",
    "\n",
    "data = pd.read_csv('preprocessing/organized_data_encoded.csv')\n",
    "data.drop(['Unnamed: 0'], axis = 1, inplace = True)\n",
    "data.columns\n",
    "df = pd.DataFrame(data)\n",
    "\n",
    "# Separate features (X) and target variables (y)\n",
    "X = df.drop(['stayTime_1 - 2 hours', 'stayTime_2 - 3 hours', 'stayTime_Less than 1 hour', 'stayTime_More than 3 hours'], axis=1)\n",
    "y = df[['stayTime_1 - 2 hours', 'stayTime_2 - 3 hours', 'stayTime_Less than 1 hour', 'stayTime_More than 3 hours']]\n",
    "\n",
    "# Split the data into training and testing sets\n",
    "X_train, X_test, y_train, y_test = train_test_split(X, y, test_size=0.2, random_state=42)\n",
    "\n",
    "# Standardize the input features\n",
    "scaler = StandardScaler()\n",
    "X_train_scaled = scaler.fit_transform(X_train)\n",
    "X_test_scaled = scaler.transform(X_test)\n",
    "\n",
    "# Build a neural network model\n",
    "model = Sequential()\n",
    "model.add(Dense(64, activation='relu', input_dim=X_train_scaled.shape[1]))\n",
    "model.add(Dense(32, activation='relu'))\n",
    "model.add(Dense(y_train.shape[1], activation='linear'))\n",
    "\n",
    "# Compile the model\n",
    "model.compile(optimizer='adam', loss='mean_squared_error', metrics=['accuracy'])\n",
    "\n",
    "# Train the model\n",
    "model.fit(X_train_scaled, y_train, epochs=50, batch_size=32, validation_split=0.2)\n"
   ]
  },
  {
   "cell_type": "code",
   "execution_count": 4,
   "metadata": {},
   "outputs": [
    {
     "name": "stdout",
     "output_type": "stream",
     "text": [
      "Mean Squared Error: 0.15046296296296297\n"
     ]
    }
   ],
   "source": [
    "# Evaluate the model\n",
    "mse_values = {column: mean_squared_error(y_test[column], y_preds[:, i]) for i, column in enumerate(y.columns)}\n",
    "print(f'Mean Squared Errors: {mse_values}')\n",
    "\n",
    "mse = mean_squared_error(y_test, y_preds)\n",
    "print(f'Mean Squared Error: {mse}')"
   ]
  },
  {
   "cell_type": "code",
   "execution_count": 5,
   "metadata": {},
   "outputs": [
    {
     "name": "stdout",
     "output_type": "stream",
     "text": [
      "14/14 [==============================] - 0s 2ms/step\n"
     ]
    },
    {
     "data": {
      "text/plain": [
       "array([[ 9.12616789e-01, -2.94175185e-03,  3.74018177e-02,\n",
       "         3.02610248e-02],\n",
       "       [ 8.01646411e-01, -1.78281218e-04,  1.00572795e-01,\n",
       "         8.10568556e-02],\n",
       "       [ 6.50786281e-01,  1.76634133e-01,  1.28712922e-01,\n",
       "         4.02111337e-02],\n",
       "       ...,\n",
       "       [ 8.01646411e-01, -1.78281218e-04,  1.00572795e-01,\n",
       "         8.10568556e-02],\n",
       "       [ 7.65251696e-01,  1.33326799e-01,  8.02581459e-02,\n",
       "         1.00611970e-02],\n",
       "       [ 7.65251696e-01,  1.33326799e-01,  8.02581459e-02,\n",
       "         1.00611970e-02]], dtype=float32)"
      ]
     },
     "execution_count": 5,
     "metadata": {},
     "output_type": "execute_result"
    }
   ],
   "source": [
    "# Predict on the test set\n",
    "y_pred_probs = model.predict(X_test_scaled)\n",
    "\n",
    "# Convert probabilities to binary predictions (0 or 1)\n",
    "y_preds = (y_pred_probs > 0.5).astype(int)"
   ]
  },
  {
   "cell_type": "code",
   "execution_count": null,
   "metadata": {},
   "outputs": [],
   "source": []
  }
 ],
 "metadata": {
  "kernelspec": {
   "display_name": "Python 3",
   "language": "python",
   "name": "python3"
  },
  "language_info": {
   "codemirror_mode": {
    "name": "ipython",
    "version": 3
   },
   "file_extension": ".py",
   "mimetype": "text/x-python",
   "name": "python",
   "nbconvert_exporter": "python",
   "pygments_lexer": "ipython3",
   "version": "3.11.7"
  }
 },
 "nbformat": 4,
 "nbformat_minor": 2
}
